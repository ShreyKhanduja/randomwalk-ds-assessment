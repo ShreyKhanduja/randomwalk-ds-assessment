{
  "cells": [
    {
      "cell_type": "code",
      "execution_count": 27,
      "metadata": {
        "id": "BJQe_sZfR0Q_"
      },
      "outputs": [],
      "source": [
        "import pandas as pd\n",
        "import matplotlib.pyplot as plt"
      ]
    },
    {
      "cell_type": "code",
      "execution_count": 28,
      "metadata": {
        "id": "PA_1M1fwTOm4"
      },
      "outputs": [],
      "source": [
        "df = pd.read_csv('books.csv')"
      ]
    },
    {
      "cell_type": "markdown",
      "metadata": {
        "id": "X2TxJY2tTVGx"
      },
      "source": [
        "Q1: How many rows and columns are there in books.csv dataset?"
      ]
    },
    {
      "cell_type": "code",
      "execution_count": 29,
      "metadata": {
        "colab": {
          "base_uri": "https://localhost:8080/"
        },
        "id": "G0wiyLQFTZzr",
        "outputId": "3b92da82-306c-4093-a369-590ac4d55c59"
      },
      "outputs": [
        {
          "name": "stdout",
          "output_type": "stream",
          "text": [
            "A1: The dataset has 399 rows and 24 columns.\n"
          ]
        }
      ],
      "source": [
        "rows, columns = df.shape\n",
        "print(f\"A1: The dataset has {rows} rows and {columns} columns.\")"
      ]
    },
    {
      "cell_type": "markdown",
      "metadata": {
        "id": "oBaC6z6yTiGq"
      },
      "source": [
        "Q2: How many books do not have an original title?"
      ]
    },
    {
      "cell_type": "code",
      "execution_count": 30,
      "metadata": {
        "colab": {
          "base_uri": "https://localhost:8080/"
        },
        "id": "Cv1uM8n1Ti3A",
        "outputId": "7164e043-0753-49fb-bfef-fdbaae33a88a"
      },
      "outputs": [
        {
          "name": "stdout",
          "output_type": "stream",
          "text": [
            "A2: There are 36 books without an original title.\n"
          ]
        }
      ],
      "source": [
        "books_without_original_title = df['original_title'].isnull().sum()\n",
        "print(f\"A2: There are {books_without_original_title} books without an original title.\")"
      ]
    },
    {
      "cell_type": "markdown",
      "metadata": {
        "id": "-xTlxKtZTxOi"
      },
      "source": [
        "Q3: How many unique books are present in the dataset? Evaluate based on the 'book_id' after removing null values in the original_title column."
      ]
    },
    {
      "cell_type": "code",
      "execution_count": 31,
      "metadata": {
        "colab": {
          "base_uri": "https://localhost:8080/"
        },
        "id": "cv_yK5b0TyQq",
        "outputId": "90bbd574-17ce-4c69-9ec5-442418c1aa56"
      },
      "outputs": [
        {
          "name": "stdout",
          "output_type": "stream",
          "text": [
            "A3: There are 363 unique books in the dataset after removing null values in the 'original_title' column.\n"
          ]
        }
      ],
      "source": [
        "df = df.dropna(subset=['original_title'])\n",
        "unique_books = df['book_id'].nunique()\n",
        "print(f\"A3: There are {unique_books} unique books in the dataset after removing null values in the 'original_title' column.\")"
      ]
    },
    {
      "cell_type": "markdown",
      "metadata": {
        "id": "kc7-1n5WT_qA"
      },
      "source": [
        "Q4: What is the average rating of all the books in the dataset based on ‘average_rating’?"
      ]
    },
    {
      "cell_type": "code",
      "execution_count": 32,
      "metadata": {
        "colab": {
          "base_uri": "https://localhost:8080/"
        },
        "id": "9tLaRnBaUDsS",
        "outputId": "b2877420-9359-4e20-fe6f-20b2ebe2c019"
      },
      "outputs": [
        {
          "name": "stdout",
          "output_type": "stream",
          "text": [
            "A4: The average rating of all the books is 3.99.\n"
          ]
        }
      ],
      "source": [
        "average_rating = df['average_rating'].mean()\n",
        "print(f\"A4: The average rating of all the books is {average_rating:.2f}.\")"
      ]
    },
    {
      "cell_type": "markdown",
      "metadata": {
        "id": "s6A2HG_AUI7v"
      },
      "source": [
        "Q5: Find the number of books published in the year ‘2000’ based on the ‘original_publication_year’."
      ]
    },
    {
      "cell_type": "code",
      "execution_count": 33,
      "metadata": {
        "colab": {
          "base_uri": "https://localhost:8080/"
        },
        "id": "VKSor2tVUMvf",
        "outputId": "fcf7f4f0-cc0c-4cd4-a629-2309c3bf9259"
      },
      "outputs": [
        {
          "name": "stdout",
          "output_type": "stream",
          "text": [
            "A5: The number of books published in the year 2000 is 7.\n"
          ]
        }
      ],
      "source": [
        "books_published_in_2000 = df[df['original_publication_year'] == 2000].shape[0]\n",
        "print(f\"A5: The number of books published in the year 2000 is {books_published_in_2000}.\")"
      ]
    },
    {
      "cell_type": "markdown",
      "metadata": {
        "id": "Ta4qTry3UQl2"
      },
      "source": [
        "Q6: Which book (title) has the maximum number of ratings based on ‘work_ratings_count’."
      ]
    },
    {
      "cell_type": "code",
      "execution_count": 34,
      "metadata": {
        "colab": {
          "base_uri": "https://localhost:8080/"
        },
        "id": "WvGfAh62UUsv",
        "outputId": "bdcc2c28-4e1f-4350-923d-81373c358d3a"
      },
      "outputs": [
        {
          "name": "stdout",
          "output_type": "stream",
          "text": [
            "A6: The book with the maximum number of ratings is 'The Diary of a Young Girl'.\n"
          ]
        }
      ],
      "source": [
        "max_ratings_book_title = df.loc[df['work_ratings_count'].idxmax(), 'title']\n",
        "print(f\"A6: The book with the maximum number of ratings is '{max_ratings_book_title}'.\")"
      ]
    },
    {
      "cell_type": "markdown",
      "metadata": {
        "id": "ixdCh4TpUZ8p"
      },
      "source": [
        "Q7: Bucket the average_rating of books into 11 buckets [0, 0.5, 1.0, 1.5, 2.0, 2.5, 3.0, 3.5, 4.0, 4.5, 5.0] with 0.5 decimal rounding. Plot bar graph."
      ]
    },
    {
      "cell_type": "code",
      "execution_count": 37,
      "metadata": {
        "colab": {
          "base_uri": "https://localhost:8080/",
          "height": 524
        },
        "id": "kKdcwPwtUcR7",
        "outputId": "e67b0356-4628-4ff7-d9a5-dc9bc02efcbd"
      },
      "outputs": [
        {
          "data": {
            "image/png": "[encoded data removed]",
            "text/plain": [
              "<Figure size 640x480 with 1 Axes>"
            ]
          },
          "metadata": {},
          "output_type": "display_data"
        },
        {
          "name": "stdout",
          "output_type": "stream",
          "text": [
            "Rating Bucket (3.0, 3.5]: 7 books\n",
            "Rating Bucket (3.5, 4.0]: 175 books\n",
            "Rating Bucket (4.0, 4.5]: 181 books\n"
          ]
        }
      ],
      "source": [
        "rating_buckets = [0, 0.5, 1.0, 1.5, 2.0, 2.5, 3.0, 3.5, 4.0, 4.5, 5.0]\n",
        "df['rating_bucket'] = pd.cut(df['average_rating'], bins=rating_buckets, include_lowest=True)\n",
        "df['rating_bucket'] = df['rating_bucket'].astype(str)\n",
        "rating_counts = df['rating_bucket'].value_counts().sort_index()\n",
        "\n",
        "# Plotting the bar graph\n",
        "plt.bar(rating_counts.index, rating_counts.values)\n",
        "plt.xlabel('Rating Buckets')\n",
        "plt.ylabel('Number of Books')\n",
        "plt.title('Number of Books in Each Rating Bucket')\n",
        "plt.show()\n",
        "\n",
        "for bucket, count in zip(rating_counts.index, rating_counts.values):\n",
        "    print(f\"Rating Bucket {bucket}: {count} books\")"
      ]
    }
  ],
  "metadata": {
    "colab": {
      "provenance": []
    },
    "kernelspec": {
      "display_name": "Python 3",
      "name": "python3"
    },
    "language_info": {
      "name": "python"
    }
  },
  "nbformat": 4,
  "nbformat_minor": 0
}
